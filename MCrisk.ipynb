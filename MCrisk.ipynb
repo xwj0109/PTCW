{
 "cells": [
  {
   "cell_type": "code",
   "execution_count": 462,
   "metadata": {},
   "outputs": [
    {
     "data": {
      "text/html": [
       "<div>\n",
       "<style scoped>\n",
       "    .dataframe tbody tr th:only-of-type {\n",
       "        vertical-align: middle;\n",
       "    }\n",
       "\n",
       "    .dataframe tbody tr th {\n",
       "        vertical-align: top;\n",
       "    }\n",
       "\n",
       "    .dataframe thead th {\n",
       "        text-align: right;\n",
       "    }\n",
       "</style>\n",
       "<table border=\"1\" class=\"dataframe\">\n",
       "  <thead>\n",
       "    <tr style=\"text-align: right;\">\n",
       "      <th></th>\n",
       "      <th>BYD</th>\n",
       "      <th>DNB</th>\n",
       "      <th>IAG</th>\n",
       "      <th>SAM</th>\n",
       "      <th>CHM</th>\n",
       "      <th>X</th>\n",
       "    </tr>\n",
       "    <tr>\n",
       "      <th>date</th>\n",
       "      <th></th>\n",
       "      <th></th>\n",
       "      <th></th>\n",
       "      <th></th>\n",
       "      <th></th>\n",
       "      <th></th>\n",
       "    </tr>\n",
       "  </thead>\n",
       "  <tbody>\n",
       "    <tr>\n",
       "      <th>2013-01-31</th>\n",
       "      <td>NaN</td>\n",
       "      <td>NaN</td>\n",
       "      <td>NaN</td>\n",
       "      <td>NaN</td>\n",
       "      <td>NaN</td>\n",
       "      <td>NaN</td>\n",
       "    </tr>\n",
       "    <tr>\n",
       "      <th>2013-02-28</th>\n",
       "      <td>-0.062767</td>\n",
       "      <td>0.065856</td>\n",
       "      <td>0.075332</td>\n",
       "      <td>0.085985</td>\n",
       "      <td>0.065668</td>\n",
       "      <td>-0.065486</td>\n",
       "    </tr>\n",
       "    <tr>\n",
       "      <th>2013-03-29</th>\n",
       "      <td>0.258752</td>\n",
       "      <td>-0.017578</td>\n",
       "      <td>0.060728</td>\n",
       "      <td>0.055986</td>\n",
       "      <td>0.109166</td>\n",
       "      <td>-0.064299</td>\n",
       "    </tr>\n",
       "    <tr>\n",
       "      <th>2013-04-30</th>\n",
       "      <td>0.451028</td>\n",
       "      <td>0.115651</td>\n",
       "      <td>0.098254</td>\n",
       "      <td>-0.015033</td>\n",
       "      <td>-0.026455</td>\n",
       "      <td>-0.087180</td>\n",
       "    </tr>\n",
       "    <tr>\n",
       "      <th>2013-05-31</th>\n",
       "      <td>0.085833</td>\n",
       "      <td>0.018199</td>\n",
       "      <td>0.005871</td>\n",
       "      <td>0.059864</td>\n",
       "      <td>0.024632</td>\n",
       "      <td>-0.003596</td>\n",
       "    </tr>\n",
       "    <tr>\n",
       "      <th>...</th>\n",
       "      <td>...</td>\n",
       "      <td>...</td>\n",
       "      <td>...</td>\n",
       "      <td>...</td>\n",
       "      <td>...</td>\n",
       "      <td>...</td>\n",
       "    </tr>\n",
       "    <tr>\n",
       "      <th>2022-08-31</th>\n",
       "      <td>-0.019456</td>\n",
       "      <td>-0.092640</td>\n",
       "      <td>-0.129345</td>\n",
       "      <td>0.170433</td>\n",
       "      <td>-0.068707</td>\n",
       "      <td>-0.030908</td>\n",
       "    </tr>\n",
       "    <tr>\n",
       "      <th>2022-09-30</th>\n",
       "      <td>-0.121827</td>\n",
       "      <td>-0.130526</td>\n",
       "      <td>-0.159940</td>\n",
       "      <td>-0.011528</td>\n",
       "      <td>-0.170479</td>\n",
       "      <td>-0.207696</td>\n",
       "    </tr>\n",
       "    <tr>\n",
       "      <th>2022-10-31</th>\n",
       "      <td>0.212171</td>\n",
       "      <td>0.037127</td>\n",
       "      <td>0.319528</td>\n",
       "      <td>-0.112438</td>\n",
       "      <td>-0.085301</td>\n",
       "      <td>0.123621</td>\n",
       "    </tr>\n",
       "    <tr>\n",
       "      <th>2022-11-30</th>\n",
       "      <td>0.061808</td>\n",
       "      <td>0.051362</td>\n",
       "      <td>0.162554</td>\n",
       "      <td>0.238437</td>\n",
       "      <td>0.327543</td>\n",
       "      <td>0.294388</td>\n",
       "    </tr>\n",
       "    <tr>\n",
       "      <th>2022-12-30</th>\n",
       "      <td>-0.108541</td>\n",
       "      <td>-0.089153</td>\n",
       "      <td>-0.075675</td>\n",
       "      <td>-0.011992</td>\n",
       "      <td>0.084835</td>\n",
       "      <td>-0.047166</td>\n",
       "    </tr>\n",
       "  </tbody>\n",
       "</table>\n",
       "<p>120 rows × 6 columns</p>\n",
       "</div>"
      ],
      "text/plain": [
       "                 BYD       DNB       IAG       SAM       CHM         X\n",
       "date                                                                  \n",
       "2013-01-31       NaN       NaN       NaN       NaN       NaN       NaN\n",
       "2013-02-28 -0.062767  0.065856  0.075332  0.085985  0.065668 -0.065486\n",
       "2013-03-29  0.258752 -0.017578  0.060728  0.055986  0.109166 -0.064299\n",
       "2013-04-30  0.451028  0.115651  0.098254 -0.015033 -0.026455 -0.087180\n",
       "2013-05-31  0.085833  0.018199  0.005871  0.059864  0.024632 -0.003596\n",
       "...              ...       ...       ...       ...       ...       ...\n",
       "2022-08-31 -0.019456 -0.092640 -0.129345  0.170433 -0.068707 -0.030908\n",
       "2022-09-30 -0.121827 -0.130526 -0.159940 -0.011528 -0.170479 -0.207696\n",
       "2022-10-31  0.212171  0.037127  0.319528 -0.112438 -0.085301  0.123621\n",
       "2022-11-30  0.061808  0.051362  0.162554  0.238437  0.327543  0.294388\n",
       "2022-12-30 -0.108541 -0.089153 -0.075675 -0.011992  0.084835 -0.047166\n",
       "\n",
       "[120 rows x 6 columns]"
      ]
     },
     "execution_count": 462,
     "metadata": {},
     "output_type": "execute_result"
    }
   ],
   "source": [
    "import pandas as pd\n",
    "import numpy as np\n",
    "\n",
    "import openpyxl\n",
    "\n",
    "data = pd.read_excel('FR2209_assessment_data.xlsx', index_col=0, header=0)\n",
    "data = data.iloc[:121,:]\n",
    "\n",
    "stocks = data.loc[:,['BYD','DNB','IAG','SAM','CHM','X']]\n",
    "\n",
    "returns = stocks.pct_change()\n",
    "std = returns.std()\n",
    "mean = returns.mean()\n",
    "\n",
    "\n",
    "returns\n",
    "\n"
   ]
  },
  {
   "cell_type": "code",
   "execution_count": 463,
   "metadata": {},
   "outputs": [
    {
     "data": {
      "text/plain": [
       "BYD    0.582069\n",
       "DNB    0.398071\n",
       "IAG    0.257447\n",
       "SAM    0.248595\n",
       "CHM    0.197914\n",
       "X      0.189037\n",
       "dtype: float64"
      ]
     },
     "execution_count": 463,
     "metadata": {},
     "output_type": "execute_result"
    }
   ],
   "source": [
    "#asssume the risk free of 0.5%, calculate the excess return for each stock\n",
    "R_f = 0.05\n",
    "excessret = mean - R_f /12\n",
    "excessret"
   ]
  },
  {
   "cell_type": "code",
   "execution_count": 464,
   "metadata": {},
   "outputs": [
    {
     "data": {
      "text/plain": [
       "BYD    0.093848\n",
       "DNB    0.087026\n",
       "IAG    0.133022\n",
       "SAM    0.108607\n",
       "CHM    0.110028\n",
       "X      0.094973\n",
       "dtype: float64"
      ]
     },
     "execution_count": 464,
     "metadata": {},
     "output_type": "execute_result"
    }
   ],
   "source": [
    "#sharpe for each stock\n",
    "sharpe = excessret/returns.std()\n",
    "sharpe"
   ]
  },
  {
   "cell_type": "code",
   "execution_count": 465,
   "metadata": {},
   "outputs": [
    {
     "data": {
      "text/html": [
       "<div>\n",
       "<style scoped>\n",
       "    .dataframe tbody tr th:only-of-type {\n",
       "        vertical-align: middle;\n",
       "    }\n",
       "\n",
       "    .dataframe tbody tr th {\n",
       "        vertical-align: top;\n",
       "    }\n",
       "\n",
       "    .dataframe thead th {\n",
       "        text-align: right;\n",
       "    }\n",
       "</style>\n",
       "<table border=\"1\" class=\"dataframe\">\n",
       "  <thead>\n",
       "    <tr style=\"text-align: right;\">\n",
       "      <th></th>\n",
       "      <th>BYD</th>\n",
       "      <th>DNB</th>\n",
       "      <th>IAG</th>\n",
       "      <th>SAM</th>\n",
       "      <th>CHM</th>\n",
       "      <th>X</th>\n",
       "    </tr>\n",
       "  </thead>\n",
       "  <tbody>\n",
       "    <tr>\n",
       "      <th>BYD</th>\n",
       "      <td>38.468336</td>\n",
       "      <td>28.357208</td>\n",
       "      <td>7.463509</td>\n",
       "      <td>-0.101051</td>\n",
       "      <td>-0.034629</td>\n",
       "      <td>12.280237</td>\n",
       "    </tr>\n",
       "    <tr>\n",
       "      <th>DNB</th>\n",
       "      <td>28.357208</td>\n",
       "      <td>20.922912</td>\n",
       "      <td>5.493531</td>\n",
       "      <td>-0.077406</td>\n",
       "      <td>-0.023190</td>\n",
       "      <td>9.055468</td>\n",
       "    </tr>\n",
       "    <tr>\n",
       "      <th>IAG</th>\n",
       "      <td>7.463509</td>\n",
       "      <td>5.493531</td>\n",
       "      <td>3.745670</td>\n",
       "      <td>-0.012002</td>\n",
       "      <td>-0.036343</td>\n",
       "      <td>2.407210</td>\n",
       "    </tr>\n",
       "    <tr>\n",
       "      <th>SAM</th>\n",
       "      <td>-0.101051</td>\n",
       "      <td>-0.077406</td>\n",
       "      <td>-0.012002</td>\n",
       "      <td>5.239277</td>\n",
       "      <td>0.368444</td>\n",
       "      <td>0.004649</td>\n",
       "    </tr>\n",
       "    <tr>\n",
       "      <th>CHM</th>\n",
       "      <td>-0.034629</td>\n",
       "      <td>-0.023190</td>\n",
       "      <td>-0.036343</td>\n",
       "      <td>0.368444</td>\n",
       "      <td>3.235537</td>\n",
       "      <td>-0.010240</td>\n",
       "    </tr>\n",
       "    <tr>\n",
       "      <th>X</th>\n",
       "      <td>12.280237</td>\n",
       "      <td>9.055468</td>\n",
       "      <td>2.407210</td>\n",
       "      <td>0.004649</td>\n",
       "      <td>-0.010240</td>\n",
       "      <td>3.961793</td>\n",
       "    </tr>\n",
       "  </tbody>\n",
       "</table>\n",
       "</div>"
      ],
      "text/plain": [
       "           BYD        DNB       IAG       SAM       CHM          X\n",
       "BYD  38.468336  28.357208  7.463509 -0.101051 -0.034629  12.280237\n",
       "DNB  28.357208  20.922912  5.493531 -0.077406 -0.023190   9.055468\n",
       "IAG   7.463509   5.493531  3.745670 -0.012002 -0.036343   2.407210\n",
       "SAM  -0.101051  -0.077406 -0.012002  5.239277  0.368444   0.004649\n",
       "CHM  -0.034629  -0.023190 -0.036343  0.368444  3.235537  -0.010240\n",
       "X    12.280237   9.055468  2.407210  0.004649 -0.010240   3.961793"
      ]
     },
     "execution_count": 465,
     "metadata": {},
     "output_type": "execute_result"
    }
   ],
   "source": [
    "#returns variance / covariance matrix \n",
    "VarCov_Mat = returns.cov()\n",
    "VarCov_Mat"
   ]
  },
  {
   "cell_type": "code",
   "execution_count": 466,
   "metadata": {},
   "outputs": [],
   "source": [
    "import numpy as np\n",
    "from itertools import combinations, permutations, product\n",
    "\n",
    "# Generate permutations of weights in multiples of 0.1\n",
    "permutations = product(range(11), repeat=len(mean))\n",
    "\n",
    "# Filter permutations where the sum equals 10 (1 in multiples of 0.1)\n",
    "valid_permutations = [p for p in permutations if sum(p) == 10]\n",
    "\n",
    "# Convert permutations to multiples of 0.1 and normalize each permutation\n",
    "normalized_permutations = [[weight / 10 for weight in p] for p in valid_permutations]\n",
    "\n",
    "# print(normalized_permutations)"
   ]
  },
  {
   "cell_type": "code",
   "execution_count": 467,
   "metadata": {},
   "outputs": [],
   "source": [
    "weighted_ret = [[weight * mean for weight, mean in zip(p, mean)] for p in normalized_permutations]\n",
    "# Sum of weights method\n",
    "portfolio_rets = [sum(weights) for weights in weighted_ret]\n",
    "# portfolio_rets"
   ]
  },
  {
   "cell_type": "code",
   "execution_count": 468,
   "metadata": {},
   "outputs": [],
   "source": [
    "# w^T mean method\n",
    "portfolio_rets2 = np.dot(normalized_permutations, mean)"
   ]
  },
  {
   "cell_type": "code",
   "execution_count": 469,
   "metadata": {},
   "outputs": [],
   "source": [
    "\n",
    "\n",
    "portfolio_std = []\n",
    "\n",
    "# Iterate over each normalized permutation of weights\n",
    "for weights in normalized_permutations:\n",
    "    # Calculate portfolio variance using the given formula\n",
    "    portfolio_variance = (np.dot(weights, np.dot(VarCov_Mat, weights)))\n",
    "    # Append the portfolio variance to the list\n",
    "    portfolio_std.append(portfolio_variance)"
   ]
  },
  {
   "cell_type": "code",
   "execution_count": 470,
   "metadata": {},
   "outputs": [
    {
     "data": {
      "text/plain": [
       "Text(0, 0.5, 'Returns')"
      ]
     },
     "execution_count": 470,
     "metadata": {},
     "output_type": "execute_result"
    },
    {
     "data": {
      "image/png": "[encoded data removed]",
      "text/plain": [
       "<Figure size 640x480 with 1 Axes>"
      ]
     },
     "metadata": {},
     "output_type": "display_data"
    }
   ],
   "source": [
    "import matplotlib.pyplot as plt\n",
    "plt.scatter(portfolio_std, portfolio_rets)\n",
    "plt.xlabel('Standard Deviation')\n",
    "plt.ylabel('Returns')"
   ]
  },
  {
   "cell_type": "code",
   "execution_count": 471,
   "metadata": {},
   "outputs": [
    {
     "data": {
      "text/plain": [
       "array([0.04771496, 0.05862655, 0.07168831, ..., 0.01689008, 0.01545449,\n",
       "       0.01513113])"
      ]
     },
     "execution_count": 471,
     "metadata": {},
     "output_type": "execute_result"
    }
   ],
   "source": [
    "sharpe_portolios = ((portfolio_rets2 - R_f / 12))/ portfolio_std\n",
    "sharpe_portolios"
   ]
  },
  {
   "cell_type": "code",
   "execution_count": 472,
   "metadata": {},
   "outputs": [
    {
     "name": "stdout",
     "output_type": "stream",
     "text": [
      "The portfolio with maximum Sharpe Ratio is:  [0.0, 0.0, 0.3, 0.2, 0.4, 0.1]  with ratio:  0.17355162647791658  The return on this portfolio is:  0.22918899868872156  and Standard Deviation:  1.29657287914088\n"
     ]
    }
   ],
   "source": [
    "max_sharpe_index = np.argmax(sharpe_portolios)\n",
    "max_sharpe = max(sharpe_portolios)\n",
    "# Retrieve the weights of the corresponding portfolio\n",
    "optimal_weights = normalized_permutations[max_sharpe_index]\n",
    "retmaxsharpe = portfolio_rets[max_sharpe_index]\n",
    "stdmaxsharpe = portfolio_std[max_sharpe_index]\n",
    "print('The portfolio with maximum Sharpe Ratio is: ', optimal_weights, ' with ratio: ', max_sharpe, ' The return on this portfolio is: ', retmaxsharpe, ' and Standard Deviation: ', stdmaxsharpe)"
   ]
  },
  {
   "cell_type": "code",
   "execution_count": 473,
   "metadata": {},
   "outputs": [
    {
     "name": "stdout",
     "output_type": "stream",
     "text": [
      "The portfolio with minimum Standard Deviation is:  [0.0, 0.0, 0.2, 0.2, 0.4, 0.2]  with Standard Deviation:  1.2790416892364758  The return on this portfolio is:  0.2223479987414559\n"
     ]
    }
   ],
   "source": [
    "min_std_index = np.argmin(portfolio_std)\n",
    "min_std = min(portfolio_std)\n",
    "# Retrieve the weights of the corresponding portfolio\n",
    "min_std_weights = normalized_permutations[min_std_index]\n",
    "retminstd = portfolio_rets[min_std_index]\n",
    "print('The portfolio with minimum Standard Deviation is: ', min_std_weights, ' with Standard Deviation: ', min_std, ' The return on this portfolio is: ', retminstd)"
   ]
  },
  {
   "cell_type": "code",
   "execution_count": 474,
   "metadata": {},
   "outputs": [
    {
     "data": {
      "image/png": "[encoded data removed]",
      "text/plain": [
       "<Figure size 640x480 with 1 Axes>"
      ]
     },
     "metadata": {},
     "output_type": "display_data"
    }
   ],
   "source": [
    "plt.scatter(portfolio_std, portfolio_rets)\n",
    "plt.scatter(min_std, retminstd, color='r')\n",
    "plt.scatter(stdmaxsharpe, retmaxsharpe, color='g')\n",
    "plt.xlabel('Standard Deviation')\n",
    "plt.ylabel('Returns')\n",
    "plt.show()"
   ]
  },
  {
   "cell_type": "code",
   "execution_count": null,
   "metadata": {},
   "outputs": [],
   "source": []
  }
 ],
 "metadata": {
  "kernelspec": {
   "display_name": "Python 3",
   "language": "python",
   "name": "python3"
  },
  "language_info": {
   "codemirror_mode": {
    "name": "ipython",
    "version": 3
   },
   "file_extension": ".py",
   "mimetype": "text/x-python",
   "name": "python",
   "nbconvert_exporter": "python",
   "pygments_lexer": "ipython3",
   "version": "3.11.1"
  }
 },
 "nbformat": 4,
 "nbformat_minor": 2
}
